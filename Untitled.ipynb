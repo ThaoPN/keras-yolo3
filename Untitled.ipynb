{
 "cells": [
  {
   "cell_type": "markdown",
   "metadata": {},
   "source": [
    "# Dataset pre-proccess\n",
    "http://benchmark.ini.rub.de/?section=gtsdb&subsection=dataset"
   ]
  },
  {
   "cell_type": "code",
   "execution_count": 7,
   "metadata": {},
   "outputs": [],
   "source": [
    "import matplotlib.pyplot as plt\n",
    "import pandas as pd\n",
    "import numpy as np\n",
    "import os"
   ]
  },
  {
   "cell_type": "code",
   "execution_count": 3,
   "metadata": {},
   "outputs": [],
   "source": [
    "# Define\n",
    "\n",
    "dataset_path = '../dataset/FullIJCNN2013'\n",
    "annotation_file = 'gt.txt'\n"
   ]
  },
  {
   "cell_type": "code",
   "execution_count": 42,
   "metadata": {},
   "outputs": [
    {
     "name": "stdout",
     "output_type": "stream",
     "text": [
      "         img   x1   y1    x2   y2  id\n",
      "0  00000.ppm  774  411   815  446  11\n",
      "1  00001.ppm  983  388  1024  432  40\n",
      "2  00001.ppm  386  494   442  552  38\n",
      "Train has image files with traffic signs numbers: 741\n",
      "Train has traffic signs class numbers: 43\n",
      "Train has traffic signs instance numbers: 1213\n",
      "0\n",
      "1\n",
      "2\n",
      "3\n",
      "4\n",
      "5\n",
      "6\n",
      "7\n",
      "8\n",
      "9\n",
      "10\n",
      "11\n",
      "12\n",
      "13\n",
      "14\n",
      "15\n",
      "16\n",
      "17\n",
      "18\n",
      "19\n",
      "20\n",
      "21\n",
      "22\n",
      "23\n",
      "24\n",
      "25\n",
      "26\n",
      "27\n",
      "28\n",
      "29\n",
      "30\n",
      "31\n",
      "32\n",
      "33\n",
      "34\n",
      "35\n",
      "36\n",
      "37\n",
      "38\n",
      "39\n",
      "40\n",
      "41\n",
      "42\n"
     ]
    }
   ],
   "source": [
    "data = pd.read_csv(os.path.join(dataset_path, annotation_file), sep=\";\", header=None)\n",
    "data.columns = [\"img\", \"x1\", \"y1\", \"x2\", \"y2\", \"id\"]\n",
    "print(data[:3])\n",
    "\n",
    "annotation_list = []\n",
    "\n",
    "# for i in data.iterrows():\n",
    "# #     print(i[1].img)\n",
    "#     item = i[1]\n",
    "#     line = '{} {},{},{},{},{}'.format(os.path.join(dataset_path, item.img), item.x1, item.y1, item.x2, item.y2, item.id)\n",
    "#     annotation_list.append(line)\n",
    "#     #print('{} {},{},{},{},{}'.format(d['img'],d['img'],d['img'],d['img'],d['img'],d['img']))\n",
    "\n",
    "# with open('annotation.txt', 'w') as f:\n",
    "#     for line in annotation_list:\n",
    "#         line += '\\n'\n",
    "#         print(line)\n",
    "#         f.write(line)\n",
    "    \n",
    "print(\"Train has image files with traffic signs numbers:\", len(data['img'].unique()))\n",
    "print(\"Train has traffic signs class numbers:\", len(data['id'].unique()))\n",
    "print(\"Train has traffic signs instance numbers:\", data['id'].count())\n",
    "#pd.value_counts(data['id'], sort=False).plot.bar()\n",
    "# print(pd.value_counts(data['id'], sort=False))\n",
    "# data['id'].hist(bins=86)\n",
    "\n",
    "for i in range(43):\n",
    "    print(i)"
   ]
  },
  {
   "cell_type": "code",
   "execution_count": 10,
   "metadata": {},
   "outputs": [
    {
     "name": "stdout",
     "output_type": "stream",
     "text": [
      "['a', 'b;c;d']\n"
     ]
    }
   ],
   "source": [
    "print('a b;c;d'.split())"
   ]
  },
  {
   "cell_type": "code",
   "execution_count": null,
   "metadata": {},
   "outputs": [],
   "source": []
  }
 ],
 "metadata": {
  "kernelspec": {
   "display_name": "Python 3",
   "language": "python",
   "name": "python3"
  },
  "language_info": {
   "codemirror_mode": {
    "name": "ipython",
    "version": 3
   },
   "file_extension": ".py",
   "mimetype": "text/x-python",
   "name": "python",
   "nbconvert_exporter": "python",
   "pygments_lexer": "ipython3",
   "version": "3.6.5"
  }
 },
 "nbformat": 4,
 "nbformat_minor": 2
}
